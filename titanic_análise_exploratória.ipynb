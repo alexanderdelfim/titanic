{
  "nbformat": 4,
  "nbformat_minor": 0,
  "metadata": {
    "kernelspec": {
      "display_name": "Python 3",
      "language": "python",
      "name": "python3"
    },
    "language_info": {
      "codemirror_mode": {
        "name": "ipython",
        "version": 3
      },
      "file_extension": ".py",
      "mimetype": "text/x-python",
      "name": "python",
      "nbconvert_exporter": "python",
      "pygments_lexer": "ipython3",
      "version": "3.7.4"
    },
    "colab": {
      "name": "titanic_análise_exploratória.ipynb",
      "provenance": []
    }
  },
  "cells": [
    {
      "cell_type": "markdown",
      "metadata": {
        "id": "OYrtzbRz8293"
      },
      "source": [
        "# Análise de Dados Exploratória do Titanic\n",
        "\n",
        "![titanic](img/titanic_historical.jpg \"Pintura do Titanic\")"
      ]
    },
    {
      "cell_type": "markdown",
      "metadata": {
        "id": "rgCkJHJL829-"
      },
      "source": [
        "# 1. Introdução\n",
        "\n",
        "O RMS Titanic foi um navio de passageiros britânico operado pela empresa *White Star Line* que afundou no Oceano Atlântico Norte nas primeiras horas da manhã de 15 de abril de 1912, depois de atingir um iceberg durante sua viagem inaugural de Southampton a Nova York. Dos 2.224 passageiros e tripulantes a bordo, mais de 1.500 morreram, tornando o naufrágio um dos desastres marítimos comerciais mais mortais da história moderna em tempos de paz.\n",
        "\n",
        "Neste estudo iremos explorar um conjunto de dados baseado na lista de passageiros do Titanic editada por Michael A. Findlay, publicada originalmente em Eaton & Haas (1994) Titanic: Triumph and Tragedy, Patrick Stephens Ltd, e expandida com a ajuda da comunidade da Internet. Os arquivos HTML originais foram obtidos por Philip Hind (1999) e o *dataset* descreve o status de sobrevivência de passageiros individuais no Titanic. Ele não contém informações para a tripulação, mas contém idades atuais e estimadas para quase 80% dos passageiros."
      ]
    },
    {
      "cell_type": "markdown",
      "metadata": {
        "id": "71yEyp2c829_"
      },
      "source": [
        "## 1.1. Objetivos\n",
        "\n",
        "O objetivo deste estudo é realizar uma Análise Exploratória dos Dados (Exploratory Data Analysis - EDA) do conjunto de dados `titanic3`, adaptado pelo autor e disponível em [data/titanic3.csv](data/titanic.csv); a fim de caracterizar o perfil dos sobreviventes do fatídico naufrágio. Especificiamente serão respondidas as seguintes questões de pesquisa:\n",
        "\n",
        "1. [Qual é o número de Sobreviventes?](#3.1.-Qual-é-o-número-de-Sobreviventes?)\n",
        "2. [Homens ou mulheres tiveram mais chances de sobreviver?](#3.2.-Homens-ou-mulheres-tiveram-mais-chances-de-sobreviver?)\n",
        "3. [Qual classe social teve mais sobreviventes?](#3.3.-Qual-classe-social-teve-mais-sobreviventes?)\n",
        "4. [Qual faixa etária teve mais chances de sobreviver?](#3.4.-Qual-faixa-etária-teve-mais-chances-de-sobreviver?)\n"
      ]
    },
    {
      "cell_type": "markdown",
      "metadata": {
        "id": "F7BpDdZh82-A"
      },
      "source": [
        "# 2. Metodologia\n",
        "\n",
        "Nesta seção será apresentado todo o processo de preparação, organização e limpeza de dados feito no *dataset* que possui os seguintes dados:\n",
        "\n",
        "| Coluna          | Descrição                                                                 |\n",
        "|-----------------|---------------------------------------------------------------------------|\n",
        "| id_passageiro   | Identficador único do passageiro.                                         |\n",
        "| classe          | Classe social.                                                            |\n",
        "| sobreviveu      | Sobrevivente? Sim (1), Não (0).                                           |\n",
        "| nome            | Nome do passageiro.                                                       |\n",
        "| sexo            | Masculino (male), Feminino (female).                                      |\n",
        "| idade           | Idade do passageiro.                                                      |\n",
        "| irmaos_conjuges | Número de irmãos e cônjuges a bordo.                                      |\n",
        "| pais_filhos     | Número de pais e filhos a bordo.                                          |\n",
        "| bilhete         | Número do bilhete                                                         |\n",
        "| tarifa          | Preço da tarifa do passageiro.                                            |\n",
        "| cabine          | Cabine.                                                                   |\n",
        "| embarque        | Nome do porto de embarque: C = Cherbourg; Q = Queenstown; S = Southampton |\n",
        "| bote            | Bote salva vidas.                                                         |\n",
        "| corpo           | Número de identificação do corpo.                                         |\n",
        "| destino         | Local de desembarque do passageiro.                                       |\n",
        "\n",
        "## OBSERVAÇÕES\n",
        "\n",
        "- `classe` é uma aproximação do status socioeconômico na época, onde: 1 = Classe Alta1; 2 = Classe Média e 3 = Classe Baixa;\n",
        "- `idade` está representada em anos, porém, se a idade for menor que Um (1) ou caso tenha sido estimada, ela estará com casas decimais xx.5;\n",
        "- `tarifa` está em Libras esterlinas (British Pounds - £) anteriores a 1970;\n",
        "- `irmaos_conjuges` e `pais_filhos`: as variáveis de relação familiar de algumas relações foram ignoradas; a seguir estão as definições usadas:\n",
        "    - **Irmão**: Irmão, irmã, meio-irmão ou meia-irmã do passageiro a bordo do Titanic;\n",
        "    - **Cônjuge**: Marido ou esposa do passageiro a bordo do Titanic (amantes e noivos ignorados);\n",
        "    - **Pai**: Mãe ou pai do passageiro a bordo do Titanic;\n",
        "    - **Criança**: Filho, Filha, Enteado ou Enteada do Passageiro a bordo do Titanic;\n",
        "    - Outros parentes excluídos deste estudo incluem primos, sobrinhos / sobrinhas, tias / tios e parentes;\n",
        "    - Algumas crianças viajavam apenas com uma babá, portanto foi atribuído 0 para elas em pais_filhos; \n",
        "    - Alguns viajaram com amigos ou vizinhos muito próximos em uma vila, no entanto, as definições não apóiam essas relações.\n"
      ]
    },
    {
      "cell_type": "markdown",
      "metadata": {
        "id": "NFxiHrwI82-B"
      },
      "source": [
        "## 2.1. Configuração do Ambiente"
      ]
    },
    {
      "cell_type": "code",
      "metadata": {
        "id": "fR-fOiR982-C"
      },
      "source": [
        "import pandas as pd\n",
        "import numpy as np"
      ],
      "execution_count": 2,
      "outputs": []
    },
    {
      "cell_type": "markdown",
      "metadata": {
        "id": "A1_WhpOn82-D"
      },
      "source": [
        "## 2.2. Leitura dos Dados"
      ]
    },
    {
      "cell_type": "code",
      "metadata": {
        "id": "bY3BVa6l82-E"
      },
      "source": [
        "titanicDf = pd.read_csv('/titanic3.csv');"
      ],
      "execution_count": 8,
      "outputs": []
    },
    {
      "cell_type": "markdown",
      "metadata": {
        "id": "ej8zZWT182-E"
      },
      "source": [
        "## 2.3. Organização e Limpeza dos Dados"
      ]
    },
    {
      "cell_type": "markdown",
      "metadata": {
        "id": "BZUTbYM882-F"
      },
      "source": [
        "### 2.3.1. Visão Geral do Conjunto de Dados"
      ]
    },
    {
      "cell_type": "code",
      "metadata": {
        "colab": {
          "base_uri": "https://localhost:8080/",
          "height": 276
        },
        "id": "qSWxfkkf82-G",
        "outputId": "7ebf39b6-9cbf-4d86-d3a1-172c9fd36c80"
      },
      "source": [
        "titanicDf.head()"
      ],
      "execution_count": 9,
      "outputs": [
        {
          "output_type": "execute_result",
          "data": {
            "text/html": [
              "<div>\n",
              "<style scoped>\n",
              "    .dataframe tbody tr th:only-of-type {\n",
              "        vertical-align: middle;\n",
              "    }\n",
              "\n",
              "    .dataframe tbody tr th {\n",
              "        vertical-align: top;\n",
              "    }\n",
              "\n",
              "    .dataframe thead th {\n",
              "        text-align: right;\n",
              "    }\n",
              "</style>\n",
              "<table border=\"1\" class=\"dataframe\">\n",
              "  <thead>\n",
              "    <tr style=\"text-align: right;\">\n",
              "      <th></th>\n",
              "      <th>id_passageiro</th>\n",
              "      <th>classe</th>\n",
              "      <th>sobreviveu</th>\n",
              "      <th>nome</th>\n",
              "      <th>sexo</th>\n",
              "      <th>idade</th>\n",
              "      <th>irmaos_conjuges</th>\n",
              "      <th>pais_filhos</th>\n",
              "      <th>bilhete</th>\n",
              "      <th>tarifa</th>\n",
              "      <th>cabine</th>\n",
              "      <th>embarque</th>\n",
              "      <th>bote</th>\n",
              "      <th>corpo</th>\n",
              "      <th>destino</th>\n",
              "    </tr>\n",
              "  </thead>\n",
              "  <tbody>\n",
              "    <tr>\n",
              "      <th>0</th>\n",
              "      <td>1</td>\n",
              "      <td>1</td>\n",
              "      <td>1</td>\n",
              "      <td>Allen, Miss. Elisabeth Walton</td>\n",
              "      <td>female</td>\n",
              "      <td>29.0</td>\n",
              "      <td>0</td>\n",
              "      <td>0</td>\n",
              "      <td>24160</td>\n",
              "      <td>211.3375</td>\n",
              "      <td>B5</td>\n",
              "      <td>S</td>\n",
              "      <td>2</td>\n",
              "      <td>NaN</td>\n",
              "      <td>St Louis, MO</td>\n",
              "    </tr>\n",
              "    <tr>\n",
              "      <th>1</th>\n",
              "      <td>2</td>\n",
              "      <td>1</td>\n",
              "      <td>1</td>\n",
              "      <td>Allison, Master. Hudson Trevor</td>\n",
              "      <td>male</td>\n",
              "      <td>1.0</td>\n",
              "      <td>1</td>\n",
              "      <td>2</td>\n",
              "      <td>113781</td>\n",
              "      <td>151.5500</td>\n",
              "      <td>C22 C26</td>\n",
              "      <td>S</td>\n",
              "      <td>11</td>\n",
              "      <td>NaN</td>\n",
              "      <td>Montreal, PQ / Chesterville, ON</td>\n",
              "    </tr>\n",
              "    <tr>\n",
              "      <th>2</th>\n",
              "      <td>3</td>\n",
              "      <td>1</td>\n",
              "      <td>0</td>\n",
              "      <td>Allison, Miss. Helen Loraine</td>\n",
              "      <td>female</td>\n",
              "      <td>2.0</td>\n",
              "      <td>1</td>\n",
              "      <td>2</td>\n",
              "      <td>113781</td>\n",
              "      <td>151.5500</td>\n",
              "      <td>C22 C26</td>\n",
              "      <td>S</td>\n",
              "      <td>NaN</td>\n",
              "      <td>NaN</td>\n",
              "      <td>Montreal, PQ / Chesterville, ON</td>\n",
              "    </tr>\n",
              "    <tr>\n",
              "      <th>3</th>\n",
              "      <td>4</td>\n",
              "      <td>1</td>\n",
              "      <td>0</td>\n",
              "      <td>Allison, Mr. Hudson Joshua Creighton</td>\n",
              "      <td>male</td>\n",
              "      <td>30.0</td>\n",
              "      <td>1</td>\n",
              "      <td>2</td>\n",
              "      <td>113781</td>\n",
              "      <td>151.5500</td>\n",
              "      <td>C22 C26</td>\n",
              "      <td>S</td>\n",
              "      <td>NaN</td>\n",
              "      <td>135.0</td>\n",
              "      <td>Montreal, PQ / Chesterville, ON</td>\n",
              "    </tr>\n",
              "    <tr>\n",
              "      <th>4</th>\n",
              "      <td>5</td>\n",
              "      <td>1</td>\n",
              "      <td>0</td>\n",
              "      <td>Allison, Mrs. Hudson J C (Bessie Waldo Daniels)</td>\n",
              "      <td>female</td>\n",
              "      <td>25.0</td>\n",
              "      <td>1</td>\n",
              "      <td>2</td>\n",
              "      <td>113781</td>\n",
              "      <td>151.5500</td>\n",
              "      <td>C22 C26</td>\n",
              "      <td>S</td>\n",
              "      <td>NaN</td>\n",
              "      <td>NaN</td>\n",
              "      <td>Montreal, PQ / Chesterville, ON</td>\n",
              "    </tr>\n",
              "  </tbody>\n",
              "</table>\n",
              "</div>"
            ],
            "text/plain": [
              "   id_passageiro  classe  ...  corpo                          destino\n",
              "0              1       1  ...    NaN                     St Louis, MO\n",
              "1              2       1  ...    NaN  Montreal, PQ / Chesterville, ON\n",
              "2              3       1  ...    NaN  Montreal, PQ / Chesterville, ON\n",
              "3              4       1  ...  135.0  Montreal, PQ / Chesterville, ON\n",
              "4              5       1  ...    NaN  Montreal, PQ / Chesterville, ON\n",
              "\n",
              "[5 rows x 15 columns]"
            ]
          },
          "metadata": {},
          "execution_count": 9
        }
      ]
    },
    {
      "cell_type": "markdown",
      "metadata": {
        "id": "gagMgqUs82-H"
      },
      "source": [
        "### 2.3.2 Remoção de Colunas\n",
        "Remoção de colunas incompletas e/ou desnecessárias para a análise."
      ]
    },
    {
      "cell_type": "code",
      "metadata": {
        "colab": {
          "base_uri": "https://localhost:8080/",
          "height": 206
        },
        "id": "OjR1HYOg82-I",
        "outputId": "cbb55434-14cb-4459-dbe5-646e21959f61"
      },
      "source": [
        "titanicDf = titanicDf.drop(columns=[\"id_passageiro\", \"corpo\", \"nome\"], axis=1)\n",
        "titanicDf.head()"
      ],
      "execution_count": 11,
      "outputs": [
        {
          "output_type": "execute_result",
          "data": {
            "text/html": [
              "<div>\n",
              "<style scoped>\n",
              "    .dataframe tbody tr th:only-of-type {\n",
              "        vertical-align: middle;\n",
              "    }\n",
              "\n",
              "    .dataframe tbody tr th {\n",
              "        vertical-align: top;\n",
              "    }\n",
              "\n",
              "    .dataframe thead th {\n",
              "        text-align: right;\n",
              "    }\n",
              "</style>\n",
              "<table border=\"1\" class=\"dataframe\">\n",
              "  <thead>\n",
              "    <tr style=\"text-align: right;\">\n",
              "      <th></th>\n",
              "      <th>classe</th>\n",
              "      <th>sobreviveu</th>\n",
              "      <th>sexo</th>\n",
              "      <th>idade</th>\n",
              "      <th>irmaos_conjuges</th>\n",
              "      <th>pais_filhos</th>\n",
              "      <th>bilhete</th>\n",
              "      <th>tarifa</th>\n",
              "      <th>cabine</th>\n",
              "      <th>embarque</th>\n",
              "      <th>bote</th>\n",
              "      <th>destino</th>\n",
              "    </tr>\n",
              "  </thead>\n",
              "  <tbody>\n",
              "    <tr>\n",
              "      <th>0</th>\n",
              "      <td>1</td>\n",
              "      <td>1</td>\n",
              "      <td>female</td>\n",
              "      <td>29.0</td>\n",
              "      <td>0</td>\n",
              "      <td>0</td>\n",
              "      <td>24160</td>\n",
              "      <td>211.3375</td>\n",
              "      <td>B5</td>\n",
              "      <td>S</td>\n",
              "      <td>2</td>\n",
              "      <td>St Louis, MO</td>\n",
              "    </tr>\n",
              "    <tr>\n",
              "      <th>1</th>\n",
              "      <td>1</td>\n",
              "      <td>1</td>\n",
              "      <td>male</td>\n",
              "      <td>1.0</td>\n",
              "      <td>1</td>\n",
              "      <td>2</td>\n",
              "      <td>113781</td>\n",
              "      <td>151.5500</td>\n",
              "      <td>C22 C26</td>\n",
              "      <td>S</td>\n",
              "      <td>11</td>\n",
              "      <td>Montreal, PQ / Chesterville, ON</td>\n",
              "    </tr>\n",
              "    <tr>\n",
              "      <th>2</th>\n",
              "      <td>1</td>\n",
              "      <td>0</td>\n",
              "      <td>female</td>\n",
              "      <td>2.0</td>\n",
              "      <td>1</td>\n",
              "      <td>2</td>\n",
              "      <td>113781</td>\n",
              "      <td>151.5500</td>\n",
              "      <td>C22 C26</td>\n",
              "      <td>S</td>\n",
              "      <td>NaN</td>\n",
              "      <td>Montreal, PQ / Chesterville, ON</td>\n",
              "    </tr>\n",
              "    <tr>\n",
              "      <th>3</th>\n",
              "      <td>1</td>\n",
              "      <td>0</td>\n",
              "      <td>male</td>\n",
              "      <td>30.0</td>\n",
              "      <td>1</td>\n",
              "      <td>2</td>\n",
              "      <td>113781</td>\n",
              "      <td>151.5500</td>\n",
              "      <td>C22 C26</td>\n",
              "      <td>S</td>\n",
              "      <td>NaN</td>\n",
              "      <td>Montreal, PQ / Chesterville, ON</td>\n",
              "    </tr>\n",
              "    <tr>\n",
              "      <th>4</th>\n",
              "      <td>1</td>\n",
              "      <td>0</td>\n",
              "      <td>female</td>\n",
              "      <td>25.0</td>\n",
              "      <td>1</td>\n",
              "      <td>2</td>\n",
              "      <td>113781</td>\n",
              "      <td>151.5500</td>\n",
              "      <td>C22 C26</td>\n",
              "      <td>S</td>\n",
              "      <td>NaN</td>\n",
              "      <td>Montreal, PQ / Chesterville, ON</td>\n",
              "    </tr>\n",
              "  </tbody>\n",
              "</table>\n",
              "</div>"
            ],
            "text/plain": [
              "   classe  sobreviveu    sexo  ...  embarque  bote                          destino\n",
              "0       1           1  female  ...         S     2                     St Louis, MO\n",
              "1       1           1    male  ...         S    11  Montreal, PQ / Chesterville, ON\n",
              "2       1           0  female  ...         S   NaN  Montreal, PQ / Chesterville, ON\n",
              "3       1           0    male  ...         S   NaN  Montreal, PQ / Chesterville, ON\n",
              "4       1           0  female  ...         S   NaN  Montreal, PQ / Chesterville, ON\n",
              "\n",
              "[5 rows x 12 columns]"
            ]
          },
          "metadata": {},
          "execution_count": 11
        }
      ]
    },
    {
      "cell_type": "markdown",
      "metadata": {
        "id": "m3ll0vM782-I"
      },
      "source": [
        "### 2.3.3. Dados Ausentes"
      ]
    },
    {
      "cell_type": "code",
      "metadata": {
        "id": "VubMV5iT82-J"
      },
      "source": [
        ""
      ],
      "execution_count": null,
      "outputs": []
    },
    {
      "cell_type": "markdown",
      "metadata": {
        "id": "Vpied9EI82-J"
      },
      "source": [
        "#### 2.3.3.1 Idades Ausentes\n",
        "Para os dados ausentes da coluna `idade` será feita a substituição dos dados vazios pela média das idades na época."
      ]
    },
    {
      "cell_type": "code",
      "metadata": {
        "colab": {
          "base_uri": "https://localhost:8080/",
          "height": 206
        },
        "id": "tGcbVmiE82-J",
        "outputId": "c9cc1fe2-c62a-44f1-8253-c2cc47d28f52"
      },
      "source": [
        "def getIdade(linha):\n",
        "  if linha[\"idade\"] == \"\":\n",
        "    return linha[\"idade\"].mean()\n",
        "\n",
        "titanicDf.apply(getIdade, axis=1)\n",
        "titanicDf.head()"
      ],
      "execution_count": 12,
      "outputs": [
        {
          "output_type": "execute_result",
          "data": {
            "text/html": [
              "<div>\n",
              "<style scoped>\n",
              "    .dataframe tbody tr th:only-of-type {\n",
              "        vertical-align: middle;\n",
              "    }\n",
              "\n",
              "    .dataframe tbody tr th {\n",
              "        vertical-align: top;\n",
              "    }\n",
              "\n",
              "    .dataframe thead th {\n",
              "        text-align: right;\n",
              "    }\n",
              "</style>\n",
              "<table border=\"1\" class=\"dataframe\">\n",
              "  <thead>\n",
              "    <tr style=\"text-align: right;\">\n",
              "      <th></th>\n",
              "      <th>classe</th>\n",
              "      <th>sobreviveu</th>\n",
              "      <th>sexo</th>\n",
              "      <th>idade</th>\n",
              "      <th>irmaos_conjuges</th>\n",
              "      <th>pais_filhos</th>\n",
              "      <th>bilhete</th>\n",
              "      <th>tarifa</th>\n",
              "      <th>cabine</th>\n",
              "      <th>embarque</th>\n",
              "      <th>bote</th>\n",
              "      <th>destino</th>\n",
              "    </tr>\n",
              "  </thead>\n",
              "  <tbody>\n",
              "    <tr>\n",
              "      <th>0</th>\n",
              "      <td>1</td>\n",
              "      <td>1</td>\n",
              "      <td>female</td>\n",
              "      <td>29.0</td>\n",
              "      <td>0</td>\n",
              "      <td>0</td>\n",
              "      <td>24160</td>\n",
              "      <td>211.3375</td>\n",
              "      <td>B5</td>\n",
              "      <td>S</td>\n",
              "      <td>2</td>\n",
              "      <td>St Louis, MO</td>\n",
              "    </tr>\n",
              "    <tr>\n",
              "      <th>1</th>\n",
              "      <td>1</td>\n",
              "      <td>1</td>\n",
              "      <td>male</td>\n",
              "      <td>1.0</td>\n",
              "      <td>1</td>\n",
              "      <td>2</td>\n",
              "      <td>113781</td>\n",
              "      <td>151.5500</td>\n",
              "      <td>C22 C26</td>\n",
              "      <td>S</td>\n",
              "      <td>11</td>\n",
              "      <td>Montreal, PQ / Chesterville, ON</td>\n",
              "    </tr>\n",
              "    <tr>\n",
              "      <th>2</th>\n",
              "      <td>1</td>\n",
              "      <td>0</td>\n",
              "      <td>female</td>\n",
              "      <td>2.0</td>\n",
              "      <td>1</td>\n",
              "      <td>2</td>\n",
              "      <td>113781</td>\n",
              "      <td>151.5500</td>\n",
              "      <td>C22 C26</td>\n",
              "      <td>S</td>\n",
              "      <td>NaN</td>\n",
              "      <td>Montreal, PQ / Chesterville, ON</td>\n",
              "    </tr>\n",
              "    <tr>\n",
              "      <th>3</th>\n",
              "      <td>1</td>\n",
              "      <td>0</td>\n",
              "      <td>male</td>\n",
              "      <td>30.0</td>\n",
              "      <td>1</td>\n",
              "      <td>2</td>\n",
              "      <td>113781</td>\n",
              "      <td>151.5500</td>\n",
              "      <td>C22 C26</td>\n",
              "      <td>S</td>\n",
              "      <td>NaN</td>\n",
              "      <td>Montreal, PQ / Chesterville, ON</td>\n",
              "    </tr>\n",
              "    <tr>\n",
              "      <th>4</th>\n",
              "      <td>1</td>\n",
              "      <td>0</td>\n",
              "      <td>female</td>\n",
              "      <td>25.0</td>\n",
              "      <td>1</td>\n",
              "      <td>2</td>\n",
              "      <td>113781</td>\n",
              "      <td>151.5500</td>\n",
              "      <td>C22 C26</td>\n",
              "      <td>S</td>\n",
              "      <td>NaN</td>\n",
              "      <td>Montreal, PQ / Chesterville, ON</td>\n",
              "    </tr>\n",
              "  </tbody>\n",
              "</table>\n",
              "</div>"
            ],
            "text/plain": [
              "   classe  sobreviveu    sexo  ...  embarque  bote                          destino\n",
              "0       1           1  female  ...         S     2                     St Louis, MO\n",
              "1       1           1    male  ...         S    11  Montreal, PQ / Chesterville, ON\n",
              "2       1           0  female  ...         S   NaN  Montreal, PQ / Chesterville, ON\n",
              "3       1           0    male  ...         S   NaN  Montreal, PQ / Chesterville, ON\n",
              "4       1           0  female  ...         S   NaN  Montreal, PQ / Chesterville, ON\n",
              "\n",
              "[5 rows x 12 columns]"
            ]
          },
          "metadata": {},
          "execution_count": 12
        }
      ]
    },
    {
      "cell_type": "markdown",
      "metadata": {
        "id": "5Z-z2yvt82-K"
      },
      "source": [
        "#### 2.3.3.2 Tarifas Ausentes\n",
        "Para os dados ausentes da coluna `tarifa`será feita a substituição dos dados vazios pela média de preço das tarifas na época."
      ]
    },
    {
      "cell_type": "code",
      "metadata": {
        "colab": {
          "base_uri": "https://localhost:8080/",
          "height": 206
        },
        "id": "v7-TzGGJ82-K",
        "outputId": "769593c0-3a4a-4888-f517-d8affa32c29d"
      },
      "source": [
        "def tarifaAusente(linha):\n",
        "  if linha[\"tarifa\"] == \"\":\n",
        "    return linha[\"tarifa\"].mean()\n",
        "\n",
        "titanicDf.apply(tarifaAusente, axis=1)\n",
        "titanicDf.head()"
      ],
      "execution_count": 14,
      "outputs": [
        {
          "output_type": "execute_result",
          "data": {
            "text/html": [
              "<div>\n",
              "<style scoped>\n",
              "    .dataframe tbody tr th:only-of-type {\n",
              "        vertical-align: middle;\n",
              "    }\n",
              "\n",
              "    .dataframe tbody tr th {\n",
              "        vertical-align: top;\n",
              "    }\n",
              "\n",
              "    .dataframe thead th {\n",
              "        text-align: right;\n",
              "    }\n",
              "</style>\n",
              "<table border=\"1\" class=\"dataframe\">\n",
              "  <thead>\n",
              "    <tr style=\"text-align: right;\">\n",
              "      <th></th>\n",
              "      <th>classe</th>\n",
              "      <th>sobreviveu</th>\n",
              "      <th>sexo</th>\n",
              "      <th>idade</th>\n",
              "      <th>irmaos_conjuges</th>\n",
              "      <th>pais_filhos</th>\n",
              "      <th>bilhete</th>\n",
              "      <th>tarifa</th>\n",
              "      <th>cabine</th>\n",
              "      <th>embarque</th>\n",
              "      <th>bote</th>\n",
              "      <th>destino</th>\n",
              "    </tr>\n",
              "  </thead>\n",
              "  <tbody>\n",
              "    <tr>\n",
              "      <th>0</th>\n",
              "      <td>1</td>\n",
              "      <td>1</td>\n",
              "      <td>female</td>\n",
              "      <td>29.0</td>\n",
              "      <td>0</td>\n",
              "      <td>0</td>\n",
              "      <td>24160</td>\n",
              "      <td>211.3375</td>\n",
              "      <td>B5</td>\n",
              "      <td>S</td>\n",
              "      <td>2</td>\n",
              "      <td>St Louis, MO</td>\n",
              "    </tr>\n",
              "    <tr>\n",
              "      <th>1</th>\n",
              "      <td>1</td>\n",
              "      <td>1</td>\n",
              "      <td>male</td>\n",
              "      <td>1.0</td>\n",
              "      <td>1</td>\n",
              "      <td>2</td>\n",
              "      <td>113781</td>\n",
              "      <td>151.5500</td>\n",
              "      <td>C22 C26</td>\n",
              "      <td>S</td>\n",
              "      <td>11</td>\n",
              "      <td>Montreal, PQ / Chesterville, ON</td>\n",
              "    </tr>\n",
              "    <tr>\n",
              "      <th>2</th>\n",
              "      <td>1</td>\n",
              "      <td>0</td>\n",
              "      <td>female</td>\n",
              "      <td>2.0</td>\n",
              "      <td>1</td>\n",
              "      <td>2</td>\n",
              "      <td>113781</td>\n",
              "      <td>151.5500</td>\n",
              "      <td>C22 C26</td>\n",
              "      <td>S</td>\n",
              "      <td>NaN</td>\n",
              "      <td>Montreal, PQ / Chesterville, ON</td>\n",
              "    </tr>\n",
              "    <tr>\n",
              "      <th>3</th>\n",
              "      <td>1</td>\n",
              "      <td>0</td>\n",
              "      <td>male</td>\n",
              "      <td>30.0</td>\n",
              "      <td>1</td>\n",
              "      <td>2</td>\n",
              "      <td>113781</td>\n",
              "      <td>151.5500</td>\n",
              "      <td>C22 C26</td>\n",
              "      <td>S</td>\n",
              "      <td>NaN</td>\n",
              "      <td>Montreal, PQ / Chesterville, ON</td>\n",
              "    </tr>\n",
              "    <tr>\n",
              "      <th>4</th>\n",
              "      <td>1</td>\n",
              "      <td>0</td>\n",
              "      <td>female</td>\n",
              "      <td>25.0</td>\n",
              "      <td>1</td>\n",
              "      <td>2</td>\n",
              "      <td>113781</td>\n",
              "      <td>151.5500</td>\n",
              "      <td>C22 C26</td>\n",
              "      <td>S</td>\n",
              "      <td>NaN</td>\n",
              "      <td>Montreal, PQ / Chesterville, ON</td>\n",
              "    </tr>\n",
              "  </tbody>\n",
              "</table>\n",
              "</div>"
            ],
            "text/plain": [
              "   classe  sobreviveu    sexo  ...  embarque  bote                          destino\n",
              "0       1           1  female  ...         S     2                     St Louis, MO\n",
              "1       1           1    male  ...         S    11  Montreal, PQ / Chesterville, ON\n",
              "2       1           0  female  ...         S   NaN  Montreal, PQ / Chesterville, ON\n",
              "3       1           0    male  ...         S   NaN  Montreal, PQ / Chesterville, ON\n",
              "4       1           0  female  ...         S   NaN  Montreal, PQ / Chesterville, ON\n",
              "\n",
              "[5 rows x 12 columns]"
            ]
          },
          "metadata": {},
          "execution_count": 14
        }
      ]
    },
    {
      "cell_type": "markdown",
      "metadata": {
        "id": "BmYp2x5y82-K"
      },
      "source": [
        "#### 2.3.3.3 Portos de Embarque Ausentes\n",
        "Para os dados ausentes da coluna `embarque`será feita a remoção dos dados vazios."
      ]
    },
    {
      "cell_type": "code",
      "metadata": {
        "colab": {
          "base_uri": "https://localhost:8080/",
          "height": 424
        },
        "id": "4AV6C24z82-L",
        "outputId": "b9b9964c-4c35-41a8-9de0-15d8d0e4b038"
      },
      "source": [
        "def embarquesAusentes(embarque):\n",
        "  return embarque != \"\"\n",
        "\n",
        "titanicDf[titanicDf[\"embarque\"].apply(embarquesAusentes)]"
      ],
      "execution_count": 15,
      "outputs": [
        {
          "output_type": "execute_result",
          "data": {
            "text/html": [
              "<div>\n",
              "<style scoped>\n",
              "    .dataframe tbody tr th:only-of-type {\n",
              "        vertical-align: middle;\n",
              "    }\n",
              "\n",
              "    .dataframe tbody tr th {\n",
              "        vertical-align: top;\n",
              "    }\n",
              "\n",
              "    .dataframe thead th {\n",
              "        text-align: right;\n",
              "    }\n",
              "</style>\n",
              "<table border=\"1\" class=\"dataframe\">\n",
              "  <thead>\n",
              "    <tr style=\"text-align: right;\">\n",
              "      <th></th>\n",
              "      <th>classe</th>\n",
              "      <th>sobreviveu</th>\n",
              "      <th>sexo</th>\n",
              "      <th>idade</th>\n",
              "      <th>irmaos_conjuges</th>\n",
              "      <th>pais_filhos</th>\n",
              "      <th>bilhete</th>\n",
              "      <th>tarifa</th>\n",
              "      <th>cabine</th>\n",
              "      <th>embarque</th>\n",
              "      <th>bote</th>\n",
              "      <th>destino</th>\n",
              "    </tr>\n",
              "  </thead>\n",
              "  <tbody>\n",
              "    <tr>\n",
              "      <th>0</th>\n",
              "      <td>1</td>\n",
              "      <td>1</td>\n",
              "      <td>female</td>\n",
              "      <td>29.0</td>\n",
              "      <td>0</td>\n",
              "      <td>0</td>\n",
              "      <td>24160</td>\n",
              "      <td>211.3375</td>\n",
              "      <td>B5</td>\n",
              "      <td>S</td>\n",
              "      <td>2</td>\n",
              "      <td>St Louis, MO</td>\n",
              "    </tr>\n",
              "    <tr>\n",
              "      <th>1</th>\n",
              "      <td>1</td>\n",
              "      <td>1</td>\n",
              "      <td>male</td>\n",
              "      <td>1.0</td>\n",
              "      <td>1</td>\n",
              "      <td>2</td>\n",
              "      <td>113781</td>\n",
              "      <td>151.5500</td>\n",
              "      <td>C22 C26</td>\n",
              "      <td>S</td>\n",
              "      <td>11</td>\n",
              "      <td>Montreal, PQ / Chesterville, ON</td>\n",
              "    </tr>\n",
              "    <tr>\n",
              "      <th>2</th>\n",
              "      <td>1</td>\n",
              "      <td>0</td>\n",
              "      <td>female</td>\n",
              "      <td>2.0</td>\n",
              "      <td>1</td>\n",
              "      <td>2</td>\n",
              "      <td>113781</td>\n",
              "      <td>151.5500</td>\n",
              "      <td>C22 C26</td>\n",
              "      <td>S</td>\n",
              "      <td>NaN</td>\n",
              "      <td>Montreal, PQ / Chesterville, ON</td>\n",
              "    </tr>\n",
              "    <tr>\n",
              "      <th>3</th>\n",
              "      <td>1</td>\n",
              "      <td>0</td>\n",
              "      <td>male</td>\n",
              "      <td>30.0</td>\n",
              "      <td>1</td>\n",
              "      <td>2</td>\n",
              "      <td>113781</td>\n",
              "      <td>151.5500</td>\n",
              "      <td>C22 C26</td>\n",
              "      <td>S</td>\n",
              "      <td>NaN</td>\n",
              "      <td>Montreal, PQ / Chesterville, ON</td>\n",
              "    </tr>\n",
              "    <tr>\n",
              "      <th>4</th>\n",
              "      <td>1</td>\n",
              "      <td>0</td>\n",
              "      <td>female</td>\n",
              "      <td>25.0</td>\n",
              "      <td>1</td>\n",
              "      <td>2</td>\n",
              "      <td>113781</td>\n",
              "      <td>151.5500</td>\n",
              "      <td>C22 C26</td>\n",
              "      <td>S</td>\n",
              "      <td>NaN</td>\n",
              "      <td>Montreal, PQ / Chesterville, ON</td>\n",
              "    </tr>\n",
              "    <tr>\n",
              "      <th>...</th>\n",
              "      <td>...</td>\n",
              "      <td>...</td>\n",
              "      <td>...</td>\n",
              "      <td>...</td>\n",
              "      <td>...</td>\n",
              "      <td>...</td>\n",
              "      <td>...</td>\n",
              "      <td>...</td>\n",
              "      <td>...</td>\n",
              "      <td>...</td>\n",
              "      <td>...</td>\n",
              "      <td>...</td>\n",
              "    </tr>\n",
              "    <tr>\n",
              "      <th>1304</th>\n",
              "      <td>3</td>\n",
              "      <td>0</td>\n",
              "      <td>female</td>\n",
              "      <td>15.0</td>\n",
              "      <td>1</td>\n",
              "      <td>0</td>\n",
              "      <td>2665</td>\n",
              "      <td>14.4542</td>\n",
              "      <td>NaN</td>\n",
              "      <td>C</td>\n",
              "      <td>NaN</td>\n",
              "      <td>NaN</td>\n",
              "    </tr>\n",
              "    <tr>\n",
              "      <th>1305</th>\n",
              "      <td>3</td>\n",
              "      <td>0</td>\n",
              "      <td>female</td>\n",
              "      <td>NaN</td>\n",
              "      <td>1</td>\n",
              "      <td>0</td>\n",
              "      <td>2665</td>\n",
              "      <td>14.4542</td>\n",
              "      <td>NaN</td>\n",
              "      <td>C</td>\n",
              "      <td>NaN</td>\n",
              "      <td>NaN</td>\n",
              "    </tr>\n",
              "    <tr>\n",
              "      <th>1306</th>\n",
              "      <td>3</td>\n",
              "      <td>0</td>\n",
              "      <td>male</td>\n",
              "      <td>27.0</td>\n",
              "      <td>0</td>\n",
              "      <td>0</td>\n",
              "      <td>2656</td>\n",
              "      <td>7.2250</td>\n",
              "      <td>NaN</td>\n",
              "      <td>C</td>\n",
              "      <td>NaN</td>\n",
              "      <td>NaN</td>\n",
              "    </tr>\n",
              "    <tr>\n",
              "      <th>1307</th>\n",
              "      <td>3</td>\n",
              "      <td>0</td>\n",
              "      <td>male</td>\n",
              "      <td>27.0</td>\n",
              "      <td>0</td>\n",
              "      <td>0</td>\n",
              "      <td>2670</td>\n",
              "      <td>7.2250</td>\n",
              "      <td>NaN</td>\n",
              "      <td>C</td>\n",
              "      <td>NaN</td>\n",
              "      <td>NaN</td>\n",
              "    </tr>\n",
              "    <tr>\n",
              "      <th>1308</th>\n",
              "      <td>3</td>\n",
              "      <td>0</td>\n",
              "      <td>male</td>\n",
              "      <td>29.0</td>\n",
              "      <td>0</td>\n",
              "      <td>0</td>\n",
              "      <td>315082</td>\n",
              "      <td>7.8750</td>\n",
              "      <td>NaN</td>\n",
              "      <td>S</td>\n",
              "      <td>NaN</td>\n",
              "      <td>NaN</td>\n",
              "    </tr>\n",
              "  </tbody>\n",
              "</table>\n",
              "<p>1309 rows × 12 columns</p>\n",
              "</div>"
            ],
            "text/plain": [
              "      classe  sobreviveu    sexo  ...  embarque  bote                          destino\n",
              "0          1           1  female  ...         S     2                     St Louis, MO\n",
              "1          1           1    male  ...         S    11  Montreal, PQ / Chesterville, ON\n",
              "2          1           0  female  ...         S   NaN  Montreal, PQ / Chesterville, ON\n",
              "3          1           0    male  ...         S   NaN  Montreal, PQ / Chesterville, ON\n",
              "4          1           0  female  ...         S   NaN  Montreal, PQ / Chesterville, ON\n",
              "...      ...         ...     ...  ...       ...   ...                              ...\n",
              "1304       3           0  female  ...         C   NaN                              NaN\n",
              "1305       3           0  female  ...         C   NaN                              NaN\n",
              "1306       3           0    male  ...         C   NaN                              NaN\n",
              "1307       3           0    male  ...         C   NaN                              NaN\n",
              "1308       3           0    male  ...         S   NaN                              NaN\n",
              "\n",
              "[1309 rows x 12 columns]"
            ]
          },
          "metadata": {},
          "execution_count": 15
        }
      ]
    },
    {
      "cell_type": "markdown",
      "metadata": {
        "id": "Of2n_k-_82-L"
      },
      "source": [
        "## 2.4. Mapeamento de Dados\n",
        "Para melhorar a análise e interpretação dos dados os seguintes atributos serão modificados:\n",
        "\n",
        "| Coluna    | Original     | Modificado                          |\n",
        "|:----------|:-------------|:------------------------------------|\n",
        "| Classe    | 1, 2, 3      | Alta, Média, Baixa                  |\n",
        "| Sexo      | male, female | M, F                                |\n",
        "| Embarque  | C, Q, S      | Cherbourg, Queenstown, Southampton  |\n"
      ]
    },
    {
      "cell_type": "code",
      "metadata": {
        "id": "rOxsQN1X82-L"
      },
      "source": [
        ""
      ],
      "execution_count": null,
      "outputs": []
    },
    {
      "cell_type": "markdown",
      "metadata": {
        "id": "GbCIBEfq82-L"
      },
      "source": [
        "## 2.5.  Feature Engineering\n",
        "\n",
        "A engenharia de recursos (*Feature Engineering*) é o processo de usar o conhecimento do domínio para extrair recursos dos dados brutos. Neste estudo serão acrescentadas as seguintes colunas para enriquecer a análise de dados:\n",
        "\n",
        "| Coluna         | Descrição                                                         |\n",
        "|:---------------|:------------------------------------------------------------------|\n",
        "| total_parentes | Número total de parentes a bordo: `irmaos_conjuges + pais_filhos` |\n",
        "| faixa_etaria   | Intervalo de idades dos passageiros.                              |"
      ]
    },
    {
      "cell_type": "markdown",
      "metadata": {
        "id": "bGIi9VpV82-M"
      },
      "source": [
        "### 2.5.1 Total de Parentes"
      ]
    },
    {
      "cell_type": "code",
      "metadata": {
        "colab": {
          "base_uri": "https://localhost:8080/",
          "height": 206
        },
        "id": "fHS_trEU82-M",
        "outputId": "dcdb21ef-8f0a-4cb0-bc53-389223c36036"
      },
      "source": [
        "def somar(linha):\n",
        "  return linha[\"irmaos_conjuges\"] + linha[\"pais_filhos\"]\n",
        "\n",
        "titanicDf[\"total\"] = titanicDf.apply(somar, axis=1)\n",
        "titanicDf.head()"
      ],
      "execution_count": 16,
      "outputs": [
        {
          "output_type": "execute_result",
          "data": {
            "text/html": [
              "<div>\n",
              "<style scoped>\n",
              "    .dataframe tbody tr th:only-of-type {\n",
              "        vertical-align: middle;\n",
              "    }\n",
              "\n",
              "    .dataframe tbody tr th {\n",
              "        vertical-align: top;\n",
              "    }\n",
              "\n",
              "    .dataframe thead th {\n",
              "        text-align: right;\n",
              "    }\n",
              "</style>\n",
              "<table border=\"1\" class=\"dataframe\">\n",
              "  <thead>\n",
              "    <tr style=\"text-align: right;\">\n",
              "      <th></th>\n",
              "      <th>classe</th>\n",
              "      <th>sobreviveu</th>\n",
              "      <th>sexo</th>\n",
              "      <th>idade</th>\n",
              "      <th>irmaos_conjuges</th>\n",
              "      <th>pais_filhos</th>\n",
              "      <th>bilhete</th>\n",
              "      <th>tarifa</th>\n",
              "      <th>cabine</th>\n",
              "      <th>embarque</th>\n",
              "      <th>bote</th>\n",
              "      <th>destino</th>\n",
              "      <th>total</th>\n",
              "    </tr>\n",
              "  </thead>\n",
              "  <tbody>\n",
              "    <tr>\n",
              "      <th>0</th>\n",
              "      <td>1</td>\n",
              "      <td>1</td>\n",
              "      <td>female</td>\n",
              "      <td>29.0</td>\n",
              "      <td>0</td>\n",
              "      <td>0</td>\n",
              "      <td>24160</td>\n",
              "      <td>211.3375</td>\n",
              "      <td>B5</td>\n",
              "      <td>S</td>\n",
              "      <td>2</td>\n",
              "      <td>St Louis, MO</td>\n",
              "      <td>0</td>\n",
              "    </tr>\n",
              "    <tr>\n",
              "      <th>1</th>\n",
              "      <td>1</td>\n",
              "      <td>1</td>\n",
              "      <td>male</td>\n",
              "      <td>1.0</td>\n",
              "      <td>1</td>\n",
              "      <td>2</td>\n",
              "      <td>113781</td>\n",
              "      <td>151.5500</td>\n",
              "      <td>C22 C26</td>\n",
              "      <td>S</td>\n",
              "      <td>11</td>\n",
              "      <td>Montreal, PQ / Chesterville, ON</td>\n",
              "      <td>3</td>\n",
              "    </tr>\n",
              "    <tr>\n",
              "      <th>2</th>\n",
              "      <td>1</td>\n",
              "      <td>0</td>\n",
              "      <td>female</td>\n",
              "      <td>2.0</td>\n",
              "      <td>1</td>\n",
              "      <td>2</td>\n",
              "      <td>113781</td>\n",
              "      <td>151.5500</td>\n",
              "      <td>C22 C26</td>\n",
              "      <td>S</td>\n",
              "      <td>NaN</td>\n",
              "      <td>Montreal, PQ / Chesterville, ON</td>\n",
              "      <td>3</td>\n",
              "    </tr>\n",
              "    <tr>\n",
              "      <th>3</th>\n",
              "      <td>1</td>\n",
              "      <td>0</td>\n",
              "      <td>male</td>\n",
              "      <td>30.0</td>\n",
              "      <td>1</td>\n",
              "      <td>2</td>\n",
              "      <td>113781</td>\n",
              "      <td>151.5500</td>\n",
              "      <td>C22 C26</td>\n",
              "      <td>S</td>\n",
              "      <td>NaN</td>\n",
              "      <td>Montreal, PQ / Chesterville, ON</td>\n",
              "      <td>3</td>\n",
              "    </tr>\n",
              "    <tr>\n",
              "      <th>4</th>\n",
              "      <td>1</td>\n",
              "      <td>0</td>\n",
              "      <td>female</td>\n",
              "      <td>25.0</td>\n",
              "      <td>1</td>\n",
              "      <td>2</td>\n",
              "      <td>113781</td>\n",
              "      <td>151.5500</td>\n",
              "      <td>C22 C26</td>\n",
              "      <td>S</td>\n",
              "      <td>NaN</td>\n",
              "      <td>Montreal, PQ / Chesterville, ON</td>\n",
              "      <td>3</td>\n",
              "    </tr>\n",
              "  </tbody>\n",
              "</table>\n",
              "</div>"
            ],
            "text/plain": [
              "   classe  sobreviveu    sexo  ...  bote                          destino  total\n",
              "0       1           1  female  ...     2                     St Louis, MO      0\n",
              "1       1           1    male  ...    11  Montreal, PQ / Chesterville, ON      3\n",
              "2       1           0  female  ...   NaN  Montreal, PQ / Chesterville, ON      3\n",
              "3       1           0    male  ...   NaN  Montreal, PQ / Chesterville, ON      3\n",
              "4       1           0  female  ...   NaN  Montreal, PQ / Chesterville, ON      3\n",
              "\n",
              "[5 rows x 13 columns]"
            ]
          },
          "metadata": {},
          "execution_count": 16
        }
      ]
    },
    {
      "cell_type": "markdown",
      "metadata": {
        "id": "HO8DwIYI82-M"
      },
      "source": [
        "### 2.5.2 Faixas Etárias"
      ]
    },
    {
      "cell_type": "code",
      "metadata": {
        "id": "IOtcPR-Q82-N"
      },
      "source": [
        ""
      ],
      "execution_count": null,
      "outputs": []
    },
    {
      "cell_type": "markdown",
      "metadata": {
        "id": "jt_J24Mg82-N"
      },
      "source": [
        "# 3. Análise dos Dados"
      ]
    },
    {
      "cell_type": "markdown",
      "metadata": {
        "id": "--9yZ-0482-N"
      },
      "source": [
        "## 3.1. Qual é o número de Sobreviventes?"
      ]
    },
    {
      "cell_type": "code",
      "metadata": {
        "colab": {
          "base_uri": "https://localhost:8080/"
        },
        "id": "eEBXMLbJ82-N",
        "outputId": "22a7a6fb-1aa6-49b8-a3e0-bd2060303460"
      },
      "source": [
        "sobreviventes = titanicDf.query(\"sobreviveu == 1\")\n",
        "sobreviventes.shape[0]"
      ],
      "execution_count": 17,
      "outputs": [
        {
          "output_type": "execute_result",
          "data": {
            "text/plain": [
              "500"
            ]
          },
          "metadata": {},
          "execution_count": 17
        }
      ]
    },
    {
      "cell_type": "markdown",
      "metadata": {
        "id": "q193lXgf82-N"
      },
      "source": [
        "## 3.2. Homens ou mulheres tiveram mais chances de sobreviver?"
      ]
    },
    {
      "cell_type": "code",
      "metadata": {
        "id": "le926I8d82-N"
      },
      "source": [
        ""
      ],
      "execution_count": null,
      "outputs": []
    },
    {
      "cell_type": "markdown",
      "metadata": {
        "id": "rBqdwagK82-O"
      },
      "source": [
        "## 3.3. Qual classe social teve mais sobreviventes?"
      ]
    },
    {
      "cell_type": "code",
      "metadata": {
        "id": "NlRCWeQZ82-O"
      },
      "source": [
        ""
      ],
      "execution_count": null,
      "outputs": []
    },
    {
      "cell_type": "markdown",
      "metadata": {
        "id": "P-1pStp_82-O"
      },
      "source": [
        "## 3.4. Qual faixa etária teve mais chances de sobreviver?"
      ]
    },
    {
      "cell_type": "code",
      "metadata": {
        "id": "ahqYGY1z82-O"
      },
      "source": [
        ""
      ],
      "execution_count": null,
      "outputs": []
    },
    {
      "cell_type": "code",
      "metadata": {
        "id": "ctWROEUM82-O"
      },
      "source": [
        ""
      ],
      "execution_count": null,
      "outputs": []
    },
    {
      "cell_type": "markdown",
      "metadata": {
        "id": "OH5_fA8F82-P"
      },
      "source": [
        "# REFERÊNCIAS\n",
        "\n",
        "- [Titanic: Machine Learning from Disaster](https://www.kaggle.com/c/titanic/data)\n",
        "- [Encyclopedia Titanica](https://www.encyclopedia-titanica.org/)\n",
        "- [Basic Feature Engineering with the Titanic Data](https://triangleinequality.wordpress.com/2013/09/08/basic-feature-engineering-with-the-titanic-data/)\n",
        "- Hind, Philip.  \"Encyclopedia Titanica.\"  Online.  Internet. n.p.  02 Aug 1999."
      ]
    }
  ]
}